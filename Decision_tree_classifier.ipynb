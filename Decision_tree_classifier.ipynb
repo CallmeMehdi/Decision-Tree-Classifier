{
 "cells": [
  {
   "cell_type": "code",
   "execution_count": 345,
   "metadata": {},
   "outputs": [],
   "source": [
    "#########################################"
   ]
  },
  {
   "cell_type": "code",
   "execution_count": 346,
   "metadata": {},
   "outputs": [],
   "source": [
    "header =[\"color\",\"diameter\",\"label\"]"
   ]
  },
  {
   "cell_type": "code",
   "execution_count": 347,
   "metadata": {},
   "outputs": [],
   "source": [
    "def is_numeric(x):\n",
    "    return isinstance(x,int) or isinstance(x,float)"
   ]
  },
  {
   "cell_type": "code",
   "execution_count": 348,
   "metadata": {},
   "outputs": [],
   "source": [
    "training_data =[\n",
    "    ['Green',3,'Apple'],\n",
    "    ['Yellow',3,'Apple'],\n",
    "    ['Red',1,'Grape'],\n",
    "    ['Red',1,'Grape'],\n",
    "    ['Yellow',3,'Lemon'],\n",
    "]\n",
    "testing_data=[\n",
    "    ['Green',3,'Apple'],\n",
    "    ['Yellow',4,'Apple'],\n",
    "    ['Red',2,'Grape'],\n",
    "    ['Red',1,'Grape'],\n",
    "    ['Yellow',3,'Lemon'],\n",
    "]"
   ]
  },
  {
   "cell_type": "code",
   "execution_count": 349,
   "metadata": {},
   "outputs": [],
   "source": [
    "class Question:\n",
    "    def __init__(self,column, value):\n",
    "        self.column= column\n",
    "        self.value=value\n",
    "    def match(self, example):\n",
    "        val = example[self.column]\n",
    "        if (is_numeric(val)):\n",
    "            return val >= self.value\n",
    "        else:\n",
    "            return val == self.value\n",
    "    def __repr__(self):\n",
    "        if is_numeric (self.value):\n",
    "            condition = \">=\"\n",
    "        else:\n",
    "            condition = \"==\"\n",
    "        return \"Is %s %s %s?\" %(header[self.column],condition,str(self.value))\n",
    "        \n",
    "    "
   ]
  },
  {
   "cell_type": "code",
   "execution_count": 350,
   "metadata": {},
   "outputs": [
    {
     "data": {
      "text/plain": [
       "Is diameter >= 3?"
      ]
     },
     "execution_count": 350,
     "metadata": {},
     "output_type": "execute_result"
    }
   ],
   "source": [
    "Question(1,3)"
   ]
  },
  {
   "cell_type": "code",
   "execution_count": 351,
   "metadata": {},
   "outputs": [],
   "source": [
    "def partition(rows, question):\n",
    "    true_rows, false_rows = [],[]\n",
    "    #print(question)\n",
    "    for row in rows:\n",
    "        if question.match(row):\n",
    "            true_rows.append(row)\n",
    "        else:\n",
    "            false_rows.append(row)\n",
    "    return true_rows, false_rows"
   ]
  },
  {
   "cell_type": "code",
   "execution_count": 352,
   "metadata": {},
   "outputs": [],
   "source": [
    "def count(rows):\n",
    "    counts={}\n",
    "    for row in rows:\n",
    "        label = row[-1]\n",
    "        if label not in counts:\n",
    "            counts[label]=0\n",
    "        counts[label]+=1\n",
    "    return counts"
   ]
  },
  {
   "cell_type": "code",
   "execution_count": 353,
   "metadata": {},
   "outputs": [],
   "source": [
    "def gini_impurity(rows):\n",
    "    impurity=1\n",
    "    counts = count(rows)\n",
    "    for label in counts:\n",
    "        prob_of_label = counts[label] / float(len(rows))\n",
    "        impurity -= prob_of_label**2\n",
    "    return impurity"
   ]
  },
  {
   "cell_type": "code",
   "execution_count": 354,
   "metadata": {},
   "outputs": [],
   "source": [
    "def info_gain(left, right, current_uncertainty):\n",
    "    p = float(len(left)) / (len(left) + len(right))\n",
    "    return current_uncertainty - p * gini_impurity(left) - (1 - p) * gini_impurity(right)"
   ]
  },
  {
   "cell_type": "code",
   "execution_count": 355,
   "metadata": {},
   "outputs": [],
   "source": [
    "def unique_vals(rows, col):\n",
    "    \"\"\"Find the unique values for a column in a dataset.\"\"\"\n",
    "    return set([row[col] for row in rows])"
   ]
  },
  {
   "cell_type": "code",
   "execution_count": 356,
   "metadata": {},
   "outputs": [],
   "source": [
    "def find_best_split(rows):\n",
    "    best_gain= 0\n",
    "    best_question = None\n",
    "    current_uncertainty = gini_impurity(rows)\n",
    "    n_features = len(rows[0]) - 1\n",
    "    #print(n_features)\n",
    "    for col in range(n_features):\n",
    "        values = set([row[col] for row in rows])\n",
    "        #print(values)\n",
    "        for val in values:\n",
    "            question = Question(col,val)\n",
    "            #print(question)\n",
    "            true_rows, false_rows = partition(rows,question)\n",
    "            #if it doesn't slip we need to skip\n",
    "            if len(true_rows)==0 or len(false_rows)==0:\n",
    "                continue\n",
    "            #In case it does split, we need to calculate the gain\n",
    "            gain = info_gain(true_rows,false_rows,current_uncertainty)\n",
    "#             print(gain)\n",
    "#             print(question)\n",
    "            if gain >= best_gain:\n",
    "                best_gain= gain\n",
    "                best_question = question\n",
    "    return best_gain,best_question"
   ]
  },
  {
   "cell_type": "code",
   "execution_count": 357,
   "metadata": {},
   "outputs": [],
   "source": [
    "class Leaf:\n",
    "    def __init__(self,rows):\n",
    "        self.predictions= count(rows)"
   ]
  },
  {
   "cell_type": "code",
   "execution_count": 358,
   "metadata": {},
   "outputs": [],
   "source": [
    "class Decision_Node:\n",
    "    def __init__(self,question,true_branch,false_branch):\n",
    "        self.question = question\n",
    "        self.true_branch = true_branch\n",
    "        self.false_branch = false_branch"
   ]
  },
  {
   "cell_type": "code",
   "execution_count": 359,
   "metadata": {},
   "outputs": [],
   "source": [
    "def build_tree(rows):\n",
    "    gain,question = find_best_split(rows)\n",
    "#     print(gain)\n",
    "#     print(question)\n",
    "    if gain == 0:\n",
    "        return Leaf(rows)\n",
    "    true_rows, false_rows = partition(rows,question)\n",
    "    true_branch = build_tree(true_rows)\n",
    "    false_branch = build_tree(false_rows)\n",
    "    return Decision_Node(question,true_branch,false_branch)"
   ]
  },
  {
   "cell_type": "code",
   "execution_count": 360,
   "metadata": {},
   "outputs": [],
   "source": [
    "\n",
    "def print_tree(node, spacing=\"\"):\n",
    "    #credits to google\n",
    "\n",
    "    # Base case: we've reached a leaf\n",
    "    if isinstance(node, Leaf):\n",
    "        print (spacing + \"Predict\", node.predictions)\n",
    "        return\n",
    "\n",
    "    # Print the question at this node\n",
    "    print (spacing + str(node.question))\n",
    "\n",
    "    # Call this function recursively on the true branch\n",
    "    print (spacing + '--> True:')\n",
    "    print_tree(node.true_branch, spacing + \"  \")\n",
    "\n",
    "    # Call this function recursively on the false branch\n",
    "    print (spacing + '--> False:')\n",
    "    print_tree(node.false_branch, spacing + \"  \")"
   ]
  },
  {
   "cell_type": "code",
   "execution_count": 361,
   "metadata": {},
   "outputs": [],
   "source": [
    "my_tree = build_tree(training_data)"
   ]
  },
  {
   "cell_type": "code",
   "execution_count": 362,
   "metadata": {},
   "outputs": [
    {
     "name": "stdout",
     "output_type": "stream",
     "text": [
      "Is diameter >= 3?\n",
      "--> True:\n",
      "  Is color == Yellow?\n",
      "  --> True:\n",
      "    Predict {'Apple': 1, 'Lemon': 1}\n",
      "  --> False:\n",
      "    Predict {'Apple': 1}\n",
      "--> False:\n",
      "  Predict {'Grape': 2}\n"
     ]
    }
   ],
   "source": [
    "print_tree(my_tree)"
   ]
  },
  {
   "cell_type": "code",
   "execution_count": 363,
   "metadata": {},
   "outputs": [],
   "source": [
    "def classify(row,node):\n",
    "    if isinstance(node,Leaf):\n",
    "        return node.predictions\n",
    "    if node.question.match(row):\n",
    "        return classify(row,node.true_branch)\n",
    "    else:\n",
    "        return classify(row,node.false_branch)\n",
    "        "
   ]
  },
  {
   "cell_type": "code",
   "execution_count": 364,
   "metadata": {},
   "outputs": [],
   "source": [
    "def print_leaf(counts):\n",
    "    total = sum (counts.values()) *1.0\n",
    "    probs ={}\n",
    "    for label in counts.keys():\n",
    "        probs[label] = str(int(counts[label]/total * 100)) +\"%\"\n",
    "    return probs"
   ]
  },
  {
   "cell_type": "code",
   "execution_count": 365,
   "metadata": {},
   "outputs": [
    {
     "data": {
      "text/plain": [
       "{'Apple': '100%'}"
      ]
     },
     "execution_count": 365,
     "metadata": {},
     "output_type": "execute_result"
    }
   ],
   "source": [
    "print_leaf(classify(training_data[0],my_tree))"
   ]
  },
  {
   "cell_type": "code",
   "execution_count": 366,
   "metadata": {},
   "outputs": [],
   "source": [
    "def predict(testing_data,tree):\n",
    "    predictions=\"\"\n",
    "    for row in testing_data:\n",
    "        predictions += str(\"Actual: %s. Predcited: %s \\n\" % (row[-1],print_leaf(classify(row,tree))))\n",
    "    return predictions"
   ]
  },
  {
   "cell_type": "code",
   "execution_count": 367,
   "metadata": {},
   "outputs": [],
   "source": [
    "def fit(training_data):\n",
    "    return build_tree(training_data)"
   ]
  },
  {
   "cell_type": "code",
   "execution_count": 368,
   "metadata": {},
   "outputs": [],
   "source": [
    "my_tree = fit(training_data)"
   ]
  },
  {
   "cell_type": "code",
   "execution_count": 369,
   "metadata": {},
   "outputs": [],
   "source": [
    "predictions = predict(testing_data,my_tree)"
   ]
  },
  {
   "cell_type": "code",
   "execution_count": 370,
   "metadata": {},
   "outputs": [
    {
     "name": "stdout",
     "output_type": "stream",
     "text": [
      "Actual: Apple. Predcited: {'Apple': '100%'} \n",
      "Actual: Apple. Predcited: {'Apple': '50%', 'Lemon': '50%'} \n",
      "Actual: Grape. Predcited: {'Grape': '100%'} \n",
      "Actual: Grape. Predcited: {'Grape': '100%'} \n",
      "Actual: Lemon. Predcited: {'Apple': '50%', 'Lemon': '50%'} \n",
      "\n"
     ]
    }
   ],
   "source": [
    "print(predictions)"
   ]
  },
  {
   "cell_type": "code",
   "execution_count": 371,
   "metadata": {},
   "outputs": [],
   "source": [
    "training_data_1=[\n",
    "    [\"Yellow\",5,\"Banana\"],\n",
    "    [\"Red\",3,\"Apple\"],\n",
    "    [\"Green\",3,\"Apple\"],\n",
    "    [\"Green\",2,\"Kiwi\"],\n",
    "    [\"Red\",1,\"Grape\"],\n",
    "    [\"Red\",3,\"Apple\"],\n",
    "    [\"Red\",1,\"Grape\"],\n",
    "    [\"Yellow\",5,\"Banana\"],\n",
    "    [\"Yellow\",3,\"Apple\"],\n",
    "    [\"Blue\",1,\"Grape\"],\n",
    "    [\"Green\",2,\"Kiwi\"]\n",
    "]"
   ]
  },
  {
   "cell_type": "code",
   "execution_count": 372,
   "metadata": {},
   "outputs": [],
   "source": [
    "testing_data_1=[\n",
    "    [\"Yellow\",5,\"Banana\"],\n",
    "    [\"Green\",3,\"Apple\"],\n",
    "    [\"Red\",1,\"Grape\"],\n",
    "    [\"Green\",2,\"Kiwi\"],\n",
    "    [\"Brown\",2,\"Kiwi\"]\n",
    "]"
   ]
  },
  {
   "cell_type": "code",
   "execution_count": 373,
   "metadata": {},
   "outputs": [],
   "source": [
    "my_tree_1= fit(training_data_1)"
   ]
  },
  {
   "cell_type": "code",
   "execution_count": 374,
   "metadata": {},
   "outputs": [],
   "source": [
    "predictions_1= predict(testing_data_1,my_tree_1)"
   ]
  },
  {
   "cell_type": "code",
   "execution_count": 375,
   "metadata": {},
   "outputs": [
    {
     "name": "stdout",
     "output_type": "stream",
     "text": [
      "Actual: Banana. Predcited: {'Banana': '100%'} \n",
      "Actual: Apple. Predcited: {'Apple': '100%'} \n",
      "Actual: Grape. Predcited: {'Grape': '100%'} \n",
      "Actual: Kiwi. Predcited: {'Kiwi': '100%'} \n",
      "Actual: Kiwi. Predcited: {'Kiwi': '100%'} \n",
      "\n"
     ]
    }
   ],
   "source": [
    "print(predictions_1)"
   ]
  }
 ],
 "metadata": {
  "kernelspec": {
   "display_name": "Python 3",
   "language": "python",
   "name": "python3"
  },
  "language_info": {
   "codemirror_mode": {
    "name": "ipython",
    "version": 3
   },
   "file_extension": ".py",
   "mimetype": "text/x-python",
   "name": "python",
   "nbconvert_exporter": "python",
   "pygments_lexer": "ipython3",
   "version": "3.7.4"
  }
 },
 "nbformat": 4,
 "nbformat_minor": 2
}
